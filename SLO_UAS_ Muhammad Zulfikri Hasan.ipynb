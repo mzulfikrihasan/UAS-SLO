{
  "nbformat": 4,
  "nbformat_minor": 0,
  "metadata": {
    "colab": {
      "name": "Untitled0.ipynb",
      "provenance": []
    },
    "kernelspec": {
      "name": "python3",
      "display_name": "Python 3"
    }
  },
  "cells": [
    {
      "cell_type": "code",
      "metadata": {
        "colab": {
          "base_uri": "https://localhost:8080/"
        },
        "id": "0ZYuXr1VCcZA",
        "outputId": "bf51c055-63c7-4952-a095-cbff9bd30948"
      },
      "source": [
        "from google.colab import drive\r\n",
        "drive.mount('/content/drive')"
      ],
      "execution_count": 15,
      "outputs": [
        {
          "output_type": "stream",
          "text": [
            "Drive already mounted at /content/drive; to attempt to forcibly remount, call drive.mount(\"/content/drive\", force_remount=True).\n"
          ],
          "name": "stdout"
        }
      ]
    },
    {
      "cell_type": "code",
      "metadata": {
        "colab": {
          "base_uri": "https://localhost:8080/"
        },
        "id": "7b3hhr2OCsRz",
        "outputId": "c9a812b9-bcef-4ba3-af78-eb49497e6c61"
      },
      "source": [
        "cd /content/drive/My Drive/Colab Notebooks"
      ],
      "execution_count": 16,
      "outputs": [
        {
          "output_type": "stream",
          "text": [
            "/content/drive/My Drive/Colab Notebooks\n"
          ],
          "name": "stdout"
        }
      ]
    },
    {
      "cell_type": "code",
      "metadata": {
        "id": "WVjJyi31CvGJ"
      },
      "source": [
        "import numpy as np\r\n",
        "import pandas as pd\r\n",
        "import matplotlib.pyplot as plt\r\n",
        "\r\n",
        "#baca dataset\r\n",
        "dataset = pd.read_csv('data_cancer.csv')"
      ],
      "execution_count": 17,
      "outputs": []
    },
    {
      "cell_type": "code",
      "metadata": {
        "colab": {
          "base_uri": "https://localhost:8080/"
        },
        "id": "scfk1eVTC0JV",
        "outputId": "986b8c38-8484-4376-f419-4945a0ab795b"
      },
      "source": [
        "def dataSetAnalysis(df):\r\n",
        "    #view starting values of data set\r\n",
        "    print(\"Dataset Head\")\r\n",
        "    print(df.head(3))\r\n",
        "    print(\"=\" * 30)\r\n",
        "    \r\n",
        "    # View features in data set\r\n",
        "    print(\"Dataset Features\")\r\n",
        "    print(df.columns.values)\r\n",
        "    print(\"=\" * 30)\r\n",
        "    \r\n",
        "    # View How many samples and how many missing values for each feature\r\n",
        "    print(\"Dataset Features Details\")\r\n",
        "    print(df.info())\r\n",
        "    print(\"=\" * 30)\r\n",
        "    \r\n",
        "    # view distribution of numerical features across the data set\r\n",
        "    print(\"Dataset Numerical Features\")\r\n",
        "    print(df.describe())\r\n",
        "    print(\"=\" * 30)\r\n",
        "    \r\n",
        "    # view distribution of categorical features across the data set\r\n",
        "    print(\"Dataset Categorical Features\")\r\n",
        "    print(df.describe(include=['O']))\r\n",
        "    print(\"=\" * 30)\r\n",
        "\r\n",
        "dataSetAnalysis(dataset)"
      ],
      "execution_count": 18,
      "outputs": [
        {
          "output_type": "stream",
          "text": [
            "Dataset Head\n",
            "         id diagnosis  ...  fractal_dimension_worst  Unnamed: 32\n",
            "0    842302         M  ...                  0.11890          NaN\n",
            "1    842517         M  ...                  0.08902          NaN\n",
            "2  84300903         M  ...                  0.08758          NaN\n",
            "\n",
            "[3 rows x 33 columns]\n",
            "==============================\n",
            "Dataset Features\n",
            "['id' 'diagnosis' 'radius_mean' 'texture_mean' 'perimeter_mean'\n",
            " 'area_mean' 'smoothness_mean' 'compactness_mean' 'concavity_mean'\n",
            " 'concave points_mean' 'symmetry_mean' 'fractal_dimension_mean'\n",
            " 'radius_se' 'texture_se' 'perimeter_se' 'area_se' 'smoothness_se'\n",
            " 'compactness_se' 'concavity_se' 'concave points_se' 'symmetry_se'\n",
            " 'fractal_dimension_se' 'radius_worst' 'texture_worst' 'perimeter_worst'\n",
            " 'area_worst' 'smoothness_worst' 'compactness_worst' 'concavity_worst'\n",
            " 'concave points_worst' 'symmetry_worst' 'fractal_dimension_worst'\n",
            " 'Unnamed: 32']\n",
            "==============================\n",
            "Dataset Features Details\n",
            "<class 'pandas.core.frame.DataFrame'>\n",
            "RangeIndex: 569 entries, 0 to 568\n",
            "Data columns (total 33 columns):\n",
            " #   Column                   Non-Null Count  Dtype  \n",
            "---  ------                   --------------  -----  \n",
            " 0   id                       569 non-null    int64  \n",
            " 1   diagnosis                569 non-null    object \n",
            " 2   radius_mean              569 non-null    float64\n",
            " 3   texture_mean             569 non-null    float64\n",
            " 4   perimeter_mean           569 non-null    float64\n",
            " 5   area_mean                569 non-null    float64\n",
            " 6   smoothness_mean          569 non-null    float64\n",
            " 7   compactness_mean         569 non-null    float64\n",
            " 8   concavity_mean           569 non-null    float64\n",
            " 9   concave points_mean      569 non-null    float64\n",
            " 10  symmetry_mean            569 non-null    float64\n",
            " 11  fractal_dimension_mean   569 non-null    float64\n",
            " 12  radius_se                569 non-null    float64\n",
            " 13  texture_se               569 non-null    float64\n",
            " 14  perimeter_se             569 non-null    float64\n",
            " 15  area_se                  569 non-null    float64\n",
            " 16  smoothness_se            569 non-null    float64\n",
            " 17  compactness_se           569 non-null    float64\n",
            " 18  concavity_se             569 non-null    float64\n",
            " 19  concave points_se        569 non-null    float64\n",
            " 20  symmetry_se              569 non-null    float64\n",
            " 21  fractal_dimension_se     569 non-null    float64\n",
            " 22  radius_worst             569 non-null    float64\n",
            " 23  texture_worst            569 non-null    float64\n",
            " 24  perimeter_worst          569 non-null    float64\n",
            " 25  area_worst               569 non-null    float64\n",
            " 26  smoothness_worst         569 non-null    float64\n",
            " 27  compactness_worst        569 non-null    float64\n",
            " 28  concavity_worst          569 non-null    float64\n",
            " 29  concave points_worst     569 non-null    float64\n",
            " 30  symmetry_worst           569 non-null    float64\n",
            " 31  fractal_dimension_worst  569 non-null    float64\n",
            " 32  Unnamed: 32              0 non-null      float64\n",
            "dtypes: float64(31), int64(1), object(1)\n",
            "memory usage: 146.8+ KB\n",
            "None\n",
            "==============================\n",
            "Dataset Numerical Features\n",
            "                 id  radius_mean  ...  fractal_dimension_worst  Unnamed: 32\n",
            "count  5.690000e+02   569.000000  ...               569.000000          0.0\n",
            "mean   3.037183e+07    14.127292  ...                 0.083946          NaN\n",
            "std    1.250206e+08     3.524049  ...                 0.018061          NaN\n",
            "min    8.670000e+03     6.981000  ...                 0.055040          NaN\n",
            "25%    8.692180e+05    11.700000  ...                 0.071460          NaN\n",
            "50%    9.060240e+05    13.370000  ...                 0.080040          NaN\n",
            "75%    8.813129e+06    15.780000  ...                 0.092080          NaN\n",
            "max    9.113205e+08    28.110000  ...                 0.207500          NaN\n",
            "\n",
            "[8 rows x 32 columns]\n",
            "==============================\n",
            "Dataset Categorical Features\n",
            "       diagnosis\n",
            "count        569\n",
            "unique         2\n",
            "top            B\n",
            "freq         357\n",
            "==============================\n"
          ],
          "name": "stdout"
        }
      ]
    },
    {
      "cell_type": "code",
      "metadata": {
        "id": "Mb5zf4CuC3N3"
      },
      "source": [
        "X = dataset.iloc[:,2:32] # [all rows, col from index 2 to the last one excluding 'Unnamed: 32']\r\n",
        "y = dataset.iloc[:,1] # [all rows, col one only which contains the classes of cancer]"
      ],
      "execution_count": 19,
      "outputs": []
    },
    {
      "cell_type": "code",
      "metadata": {
        "colab": {
          "base_uri": "https://localhost:8080/"
        },
        "id": "b7esFxJQC7qE",
        "outputId": "026a3994-b874-421f-d8e2-13960d898a5c"
      },
      "source": [
        "from sklearn.preprocessing import LabelEncoder\r\n",
        "\r\n",
        "print(\"Before encoding: \")\r\n",
        "print(y[100:110])\r\n",
        "\r\n",
        "labelencoder_Y = LabelEncoder()\r\n",
        "y = labelencoder_Y.fit_transform(y)\r\n",
        "\r\n",
        "print(\"\\nAfter encoding: \")\r\n",
        "print(y[100:110])"
      ],
      "execution_count": 20,
      "outputs": [
        {
          "output_type": "stream",
          "text": [
            "Before encoding: \n",
            "100    M\n",
            "101    B\n",
            "102    B\n",
            "103    B\n",
            "104    B\n",
            "105    M\n",
            "106    B\n",
            "107    B\n",
            "108    M\n",
            "109    B\n",
            "Name: diagnosis, dtype: object\n",
            "\n",
            "After encoding: \n",
            "[1 0 0 0 0 1 0 0 1 0]\n"
          ],
          "name": "stdout"
        }
      ]
    },
    {
      "cell_type": "code",
      "metadata": {
        "id": "q_zLj-bbC-WI"
      },
      "source": [
        "from sklearn.model_selection import train_test_split\r\n",
        "\r\n",
        "X_train, X_test, y_train, y_test = train_test_split(X, y, test_size = 0.2, random_state = 0)"
      ],
      "execution_count": 21,
      "outputs": []
    },
    {
      "cell_type": "code",
      "metadata": {
        "id": "CBChUPxVDBVF"
      },
      "source": [
        "from sklearn.preprocessing import StandardScaler\r\n",
        "\r\n",
        "sc = StandardScaler()\r\n",
        "X_train = sc.fit_transform(X_train)\r\n",
        "X_test = sc.transform(X_test)"
      ],
      "execution_count": 22,
      "outputs": []
    },
    {
      "cell_type": "code",
      "metadata": {
        "id": "RDXyccSbDM4B"
      },
      "source": [
        "from keras.models import Sequential\r\n",
        "from keras.layers import Dense\r\n",
        "\r\n",
        "classifier = Sequential() # Initialising the ANN\r\n",
        "\r\n",
        "classifier.add(Dense(units = 16, kernel_initializer = 'uniform', activation = 'relu', input_dim = 30))\r\n",
        "classifier.add(Dense(units = 8, kernel_initializer = 'uniform', activation = 'relu'))\r\n",
        "classifier.add(Dense(units = 6, kernel_initializer = 'uniform', activation = 'relu'))\r\n",
        "classifier.add(Dense(units = 1, kernel_initializer = 'uniform', activation = 'sigmoid'))"
      ],
      "execution_count": 23,
      "outputs": []
    },
    {
      "cell_type": "code",
      "metadata": {
        "id": "qT9Xo0mFDOYZ"
      },
      "source": [
        "classifier.compile(optimizer = 'rmsprop', loss = 'binary_crossentropy', metrics = ['accuracy'])"
      ],
      "execution_count": 24,
      "outputs": []
    },
    {
      "cell_type": "code",
      "metadata": {
        "colab": {
          "base_uri": "https://localhost:8080/"
        },
        "id": "7IR6tAwJDP1i",
        "outputId": "ecfbb4e5-8fe0-469f-8e64-2f60f3709f7a"
      },
      "source": [
        "classifier.fit(X_train, y_train, batch_size = 1, epochs = 100)"
      ],
      "execution_count": 25,
      "outputs": [
        {
          "output_type": "stream",
          "text": [
            "Epoch 1/100\n",
            "455/455 [==============================] - 1s 1ms/step - loss: 0.6225 - accuracy: 0.7082\n",
            "Epoch 2/100\n",
            "455/455 [==============================] - 0s 1ms/step - loss: 0.1732 - accuracy: 0.9506\n",
            "Epoch 3/100\n",
            "455/455 [==============================] - 0s 1ms/step - loss: 0.1200 - accuracy: 0.9631\n",
            "Epoch 4/100\n",
            "455/455 [==============================] - 0s 987us/step - loss: 0.1358 - accuracy: 0.9602\n",
            "Epoch 5/100\n",
            "455/455 [==============================] - 0s 971us/step - loss: 0.1617 - accuracy: 0.9641\n",
            "Epoch 6/100\n",
            "455/455 [==============================] - 0s 1ms/step - loss: 0.1277 - accuracy: 0.9742\n",
            "Epoch 7/100\n",
            "455/455 [==============================] - 0s 945us/step - loss: 0.0627 - accuracy: 0.9822\n",
            "Epoch 8/100\n",
            "455/455 [==============================] - 0s 959us/step - loss: 0.1993 - accuracy: 0.9725\n",
            "Epoch 9/100\n",
            "455/455 [==============================] - 0s 968us/step - loss: 0.0815 - accuracy: 0.9863\n",
            "Epoch 10/100\n",
            "455/455 [==============================] - 0s 985us/step - loss: 0.0774 - accuracy: 0.9820\n",
            "Epoch 11/100\n",
            "455/455 [==============================] - 0s 954us/step - loss: 0.1409 - accuracy: 0.9708\n",
            "Epoch 12/100\n",
            "455/455 [==============================] - 0s 1ms/step - loss: 0.0618 - accuracy: 0.9899\n",
            "Epoch 13/100\n",
            "455/455 [==============================] - 0s 951us/step - loss: 0.1440 - accuracy: 0.9810\n",
            "Epoch 14/100\n",
            "455/455 [==============================] - 0s 994us/step - loss: 0.1082 - accuracy: 0.9836\n",
            "Epoch 15/100\n",
            "455/455 [==============================] - 0s 948us/step - loss: 0.0788 - accuracy: 0.9874\n",
            "Epoch 16/100\n",
            "455/455 [==============================] - 0s 982us/step - loss: 0.0477 - accuracy: 0.9887\n",
            "Epoch 17/100\n",
            "455/455 [==============================] - 0s 965us/step - loss: 0.0605 - accuracy: 0.9892\n",
            "Epoch 18/100\n",
            "455/455 [==============================] - 0s 958us/step - loss: 0.1110 - accuracy: 0.9841\n",
            "Epoch 19/100\n",
            "455/455 [==============================] - 0s 997us/step - loss: 0.0646 - accuracy: 0.9910\n",
            "Epoch 20/100\n",
            "455/455 [==============================] - 0s 978us/step - loss: 0.0500 - accuracy: 0.9918\n",
            "Epoch 21/100\n",
            "455/455 [==============================] - 0s 1ms/step - loss: 0.0403 - accuracy: 0.9948\n",
            "Epoch 22/100\n",
            "455/455 [==============================] - 0s 960us/step - loss: 0.0482 - accuracy: 0.9876\n",
            "Epoch 23/100\n",
            "455/455 [==============================] - 0s 987us/step - loss: 0.0980 - accuracy: 0.9844\n",
            "Epoch 24/100\n",
            "455/455 [==============================] - 0s 970us/step - loss: 0.0607 - accuracy: 0.9851\n",
            "Epoch 25/100\n",
            "455/455 [==============================] - 0s 1ms/step - loss: 0.1581 - accuracy: 0.9782\n",
            "Epoch 26/100\n",
            "455/455 [==============================] - 0s 974us/step - loss: 0.0539 - accuracy: 0.9928\n",
            "Epoch 27/100\n",
            "455/455 [==============================] - 0s 953us/step - loss: 0.0360 - accuracy: 0.9945\n",
            "Epoch 28/100\n",
            "455/455 [==============================] - 0s 1ms/step - loss: 0.0781 - accuracy: 0.9893\n",
            "Epoch 29/100\n",
            "455/455 [==============================] - 0s 954us/step - loss: 0.0651 - accuracy: 0.9909\n",
            "Epoch 30/100\n",
            "455/455 [==============================] - 0s 994us/step - loss: 0.0269 - accuracy: 0.9966\n",
            "Epoch 31/100\n",
            "455/455 [==============================] - 0s 940us/step - loss: 0.0767 - accuracy: 0.9887\n",
            "Epoch 32/100\n",
            "455/455 [==============================] - 0s 973us/step - loss: 0.0801 - accuracy: 0.9868\n",
            "Epoch 33/100\n",
            "455/455 [==============================] - 0s 972us/step - loss: 0.0704 - accuracy: 0.9904\n",
            "Epoch 34/100\n",
            "455/455 [==============================] - 0s 1ms/step - loss: 0.0595 - accuracy: 0.9906\n",
            "Epoch 35/100\n",
            "455/455 [==============================] - 0s 991us/step - loss: 0.0601 - accuracy: 0.9917\n",
            "Epoch 36/100\n",
            "455/455 [==============================] - 0s 996us/step - loss: 0.0412 - accuracy: 0.9940\n",
            "Epoch 37/100\n",
            "455/455 [==============================] - 0s 1ms/step - loss: 0.0608 - accuracy: 0.9893\n",
            "Epoch 38/100\n",
            "455/455 [==============================] - 0s 980us/step - loss: 0.0784 - accuracy: 0.9847\n",
            "Epoch 39/100\n",
            "455/455 [==============================] - 0s 980us/step - loss: 0.0885 - accuracy: 0.9854\n",
            "Epoch 40/100\n",
            "455/455 [==============================] - 0s 961us/step - loss: 0.0240 - accuracy: 0.9964\n",
            "Epoch 41/100\n",
            "455/455 [==============================] - 0s 989us/step - loss: 0.0494 - accuracy: 0.9921\n",
            "Epoch 42/100\n",
            "455/455 [==============================] - 0s 998us/step - loss: 0.0577 - accuracy: 0.9888\n",
            "Epoch 43/100\n",
            "455/455 [==============================] - 0s 1ms/step - loss: 0.1447 - accuracy: 0.9748\n",
            "Epoch 44/100\n",
            "455/455 [==============================] - 0s 957us/step - loss: 0.0600 - accuracy: 0.9904\n",
            "Epoch 45/100\n",
            "455/455 [==============================] - 0s 938us/step - loss: 0.0604 - accuracy: 0.9917\n",
            "Epoch 46/100\n",
            "455/455 [==============================] - 0s 980us/step - loss: 0.1060 - accuracy: 0.9836\n",
            "Epoch 47/100\n",
            "455/455 [==============================] - 0s 994us/step - loss: 0.0806 - accuracy: 0.9866\n",
            "Epoch 48/100\n",
            "455/455 [==============================] - 0s 1ms/step - loss: 0.0600 - accuracy: 0.9908\n",
            "Epoch 49/100\n",
            "455/455 [==============================] - 0s 983us/step - loss: 0.1036 - accuracy: 0.9807\n",
            "Epoch 50/100\n",
            "455/455 [==============================] - 0s 1ms/step - loss: 0.0685 - accuracy: 0.9880\n",
            "Epoch 51/100\n",
            "455/455 [==============================] - 0s 949us/step - loss: 0.0354 - accuracy: 0.9944\n",
            "Epoch 52/100\n",
            "455/455 [==============================] - 0s 1ms/step - loss: 0.0350 - accuracy: 0.9940\n",
            "Epoch 53/100\n",
            "455/455 [==============================] - 1s 1ms/step - loss: 0.0994 - accuracy: 0.9809\n",
            "Epoch 54/100\n",
            "455/455 [==============================] - 0s 977us/step - loss: 0.0559 - accuracy: 0.9925\n",
            "Epoch 55/100\n",
            "455/455 [==============================] - 0s 947us/step - loss: 0.0407 - accuracy: 0.9938\n",
            "Epoch 56/100\n",
            "455/455 [==============================] - 0s 994us/step - loss: 0.0229 - accuracy: 0.9962\n",
            "Epoch 57/100\n",
            "455/455 [==============================] - 0s 960us/step - loss: 0.0784 - accuracy: 0.9749\n",
            "Epoch 58/100\n",
            "455/455 [==============================] - 0s 967us/step - loss: 0.0897 - accuracy: 0.9844\n",
            "Epoch 59/100\n",
            "455/455 [==============================] - 0s 1ms/step - loss: 0.0480 - accuracy: 0.9927\n",
            "Epoch 60/100\n",
            "455/455 [==============================] - 0s 986us/step - loss: 0.0290 - accuracy: 0.9951\n",
            "Epoch 61/100\n",
            "455/455 [==============================] - 0s 1ms/step - loss: 0.0543 - accuracy: 0.9909\n",
            "Epoch 62/100\n",
            "455/455 [==============================] - 0s 967us/step - loss: 0.0784 - accuracy: 0.9853\n",
            "Epoch 63/100\n",
            "455/455 [==============================] - 0s 1ms/step - loss: 0.0720 - accuracy: 0.9895\n",
            "Epoch 64/100\n",
            "455/455 [==============================] - 0s 989us/step - loss: 0.0721 - accuracy: 0.9879\n",
            "Epoch 65/100\n",
            "455/455 [==============================] - 0s 1ms/step - loss: 0.0572 - accuracy: 0.9891\n",
            "Epoch 66/100\n",
            "455/455 [==============================] - 0s 979us/step - loss: 0.0121 - accuracy: 0.9980\n",
            "Epoch 67/100\n",
            "455/455 [==============================] - 0s 1ms/step - loss: 0.0446 - accuracy: 0.9940\n",
            "Epoch 68/100\n",
            "455/455 [==============================] - 0s 1ms/step - loss: 0.0612 - accuracy: 0.9850\n",
            "Epoch 69/100\n",
            "455/455 [==============================] - 0s 969us/step - loss: 0.0580 - accuracy: 0.9901\n",
            "Epoch 70/100\n",
            "455/455 [==============================] - 1s 1ms/step - loss: 0.0200 - accuracy: 0.9962\n",
            "Epoch 71/100\n",
            "455/455 [==============================] - 0s 985us/step - loss: 0.0279 - accuracy: 0.9963\n",
            "Epoch 72/100\n",
            "455/455 [==============================] - 0s 1ms/step - loss: 0.0192 - accuracy: 0.9963\n",
            "Epoch 73/100\n",
            "455/455 [==============================] - 0s 1ms/step - loss: 0.0445 - accuracy: 0.9925\n",
            "Epoch 74/100\n",
            "455/455 [==============================] - 0s 978us/step - loss: 0.0456 - accuracy: 0.9906\n",
            "Epoch 75/100\n",
            "455/455 [==============================] - 0s 1ms/step - loss: 0.0972 - accuracy: 0.9807\n",
            "Epoch 76/100\n",
            "455/455 [==============================] - 0s 978us/step - loss: 0.0635 - accuracy: 0.9854\n",
            "Epoch 77/100\n",
            "455/455 [==============================] - 0s 983us/step - loss: 0.0674 - accuracy: 0.9876\n",
            "Epoch 78/100\n",
            "455/455 [==============================] - 0s 968us/step - loss: 0.0441 - accuracy: 0.9942\n",
            "Epoch 79/100\n",
            "455/455 [==============================] - 0s 1ms/step - loss: 0.0629 - accuracy: 0.9926\n",
            "Epoch 80/100\n",
            "455/455 [==============================] - 0s 953us/step - loss: 0.0749 - accuracy: 0.9877\n",
            "Epoch 81/100\n",
            "455/455 [==============================] - 0s 1ms/step - loss: 0.0179 - accuracy: 0.9976\n",
            "Epoch 82/100\n",
            "455/455 [==============================] - 0s 1ms/step - loss: 0.0330 - accuracy: 0.9952\n",
            "Epoch 83/100\n",
            "455/455 [==============================] - 0s 1ms/step - loss: 0.0302 - accuracy: 0.9956\n",
            "Epoch 84/100\n",
            "455/455 [==============================] - 0s 981us/step - loss: 0.0154 - accuracy: 0.9979\n",
            "Epoch 85/100\n",
            "455/455 [==============================] - 0s 990us/step - loss: 0.0882 - accuracy: 0.9880\n",
            "Epoch 86/100\n",
            "455/455 [==============================] - 0s 1ms/step - loss: 0.0228 - accuracy: 0.9946\n",
            "Epoch 87/100\n",
            "455/455 [==============================] - 0s 1ms/step - loss: 0.0606 - accuracy: 0.9892\n",
            "Epoch 88/100\n",
            "455/455 [==============================] - 0s 973us/step - loss: 0.1050 - accuracy: 0.9839\n",
            "Epoch 89/100\n",
            "455/455 [==============================] - 0s 1ms/step - loss: 0.0852 - accuracy: 0.9881\n",
            "Epoch 90/100\n",
            "455/455 [==============================] - 0s 999us/step - loss: 0.0505 - accuracy: 0.9888\n",
            "Epoch 91/100\n",
            "455/455 [==============================] - 0s 1ms/step - loss: 0.0424 - accuracy: 0.9943\n",
            "Epoch 92/100\n",
            "455/455 [==============================] - 0s 1ms/step - loss: 0.0404 - accuracy: 0.9937\n",
            "Epoch 93/100\n",
            "455/455 [==============================] - 0s 1ms/step - loss: 0.0405 - accuracy: 0.9924\n",
            "Epoch 94/100\n",
            "455/455 [==============================] - 0s 1ms/step - loss: 0.0979 - accuracy: 0.9860\n",
            "Epoch 95/100\n",
            "455/455 [==============================] - 0s 1ms/step - loss: 0.0752 - accuracy: 0.9827\n",
            "Epoch 96/100\n",
            "455/455 [==============================] - 0s 1ms/step - loss: 0.0694 - accuracy: 0.9847\n",
            "Epoch 97/100\n",
            "455/455 [==============================] - 0s 1ms/step - loss: 0.0486 - accuracy: 0.9926\n",
            "Epoch 98/100\n",
            "455/455 [==============================] - 0s 1ms/step - loss: 0.0685 - accuracy: 0.9863\n",
            "Epoch 99/100\n",
            "455/455 [==============================] - 0s 1ms/step - loss: 0.0797 - accuracy: 0.9894\n",
            "Epoch 100/100\n",
            "455/455 [==============================] - 0s 1ms/step - loss: 0.0703 - accuracy: 0.9902\n"
          ],
          "name": "stdout"
        },
        {
          "output_type": "execute_result",
          "data": {
            "text/plain": [
              "<tensorflow.python.keras.callbacks.History at 0x7fa612fcc390>"
            ]
          },
          "metadata": {
            "tags": []
          },
          "execution_count": 25
        }
      ]
    },
    {
      "cell_type": "code",
      "metadata": {
        "id": "tiTB-bb9DSfu"
      },
      "source": [
        "from keras.models import load_model\r\n",
        "\r\n",
        "classifier.save('cancer_model.h5') #Save trained ANN\r\n",
        "#classifier = load_model('cancer_model.h5')  #Load trained ANN"
      ],
      "execution_count": 26,
      "outputs": []
    },
    {
      "cell_type": "code",
      "metadata": {
        "id": "RngUrnj7DT5Q"
      },
      "source": [
        "y_pred = classifier.predict(X_test)\r\n",
        "y_pred = [ 1 if y>=0.5 else 0 for y in y_pred ]"
      ],
      "execution_count": 27,
      "outputs": []
    },
    {
      "cell_type": "code",
      "metadata": {
        "colab": {
          "base_uri": "https://localhost:8080/"
        },
        "id": "mF_szwiCDVx3",
        "outputId": "d39f04b1-bf5f-4860-a785-8735939795f3"
      },
      "source": [
        "from sklearn.metrics import confusion_matrix\r\n",
        "cm = confusion_matrix(y_test, y_pred)\r\n",
        "print(cm)\r\n",
        "\r\n",
        "accuracy = (cm[0][0]+cm[1][1])/(cm[0][0]+cm[0][1]+cm[1][0]+cm[1][1])\r\n",
        "print(\"Accuracy: \"+ str(accuracy*100)+\"%\")"
      ],
      "execution_count": 28,
      "outputs": [
        {
          "output_type": "stream",
          "text": [
            "[[66  1]\n",
            " [ 3 44]]\n",
            "Accuracy: 96.49122807017544%\n"
          ],
          "name": "stdout"
        }
      ]
    }
  ]
}